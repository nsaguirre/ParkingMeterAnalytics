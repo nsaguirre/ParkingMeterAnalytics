{
 "cells": [
  {
   "cell_type": "markdown",
   "metadata": {},
   "source": [
    "## Notebook for Predicting Daily Meter Revenue\n",
    "\n",
    "This notebook was made separate from the reporting notebook in order to multitask. Some overlap in beginning."
   ]
  },
  {
   "cell_type": "code",
   "execution_count": 1,
   "metadata": {
    "collapsed": false
   },
   "outputs": [],
   "source": [
    "import pandas as pd\n",
    "import matplotlib.pyplot as plt\n",
    "import matplotlib as mpl\n",
    "import seaborn as sns\n",
    "import scipy.stats as st\n",
    "import numpy as np\n",
    "import sklearn as sk\n",
    "import datetime\n",
    "from math import radians, sin, cos, pi, asin, atan2\n",
    "import datetime\n",
    "import copy\n",
    "% matplotlib inline"
   ]
  },
  {
   "cell_type": "code",
   "execution_count": 2,
   "metadata": {
    "collapsed": false
   },
   "outputs": [
    {
     "name": "stdout",
     "output_type": "stream",
     "text": [
      "Loaded dataframes from file\n"
     ]
    }
   ],
   "source": [
    "try: \n",
    "\n",
    "    df_meters = pd.read_csv('parking_meters_sd.csv', delimiter= '\\t', encoding = 'ISO-8859-1')\n",
    "    df_trans = pd.read_csv('meter_transactions_2017.csv', delimiter= '\\t', encoding = 'ISO-8859-1')\n",
    "    meter_dict = pd.read_csv('parking_meters_sd_dict.csv', delimiter= '\\t', encoding = 'ISO-8859-1')\n",
    "    trans_dict = pd.read_csv('meter_transactions_2017_dict.csv', delimiter= '\\t', encoding = 'ISO-8859-1')\n",
    "\n",
    "    print('Loaded dataframes from file')\n",
    "    \n",
    "except:\n",
    "    urls = ['http://seshat.datasd.org/parking_meters/treas_parking_meters_loc_datasd.csv', 'http://seshat.datasd.org/parking_meters/meters_locations_dictionary_datasd.csv', \n",
    "            'http://seshat.datasd.org/parking_meters/treas_parking_payments_2017_datasd.csv', 'http://seshat.datasd.org/parking_meters/meters_transactions_dictionary_datasd.csv']\n",
    "    \n",
    "    df_titles = ['parking_meters_sd', 'parking_meters_sd_dict', 'meter_transactions_2017', 'meter_transactions_2017_dict']\n",
    "    for i in range(len(urls)):\n",
    "        df = pd.read_csv(urls[i])\n",
    "        fname = df_titles[i] + '.csv'\n",
    "        print('Loading ' + fname + ' dataframe from url. Saving to csv...')\n",
    "        df.to_csv(fname, sep = '\\t', index=False)\n",
    "        \n",
    "        print('Saving...')\n",
    "    df_meters = pd.read_csv('parking_meters_sd.csv', delimiter= '\\t', encoding = 'ISO-8859-1')\n",
    "    df_trans = pd.read_csv('meter_transactions_2017.csv', delimiter= '\\t', encoding = 'ISO-8859-1')\n",
    "    meter_dict = pd.read_csv('parking_meters_sd_dict.csv', delimiter= '\\t', encoding = 'ISO-8859-1')\n",
    "    trans_dict = pd.read_csv('meter_transactions_2017_dict.csv', delimiter= '\\t', encoding = 'ISO-8859-1')\n",
    "    print('Done')"
   ]
  },
  {
   "cell_type": "code",
   "execution_count": 3,
   "metadata": {
    "collapsed": false
   },
   "outputs": [],
   "source": [
    "df_trans['trans_start'] = pd.to_datetime(df_trans['trans_start'])\n",
    "df_trans['meter_expire'] = pd.to_datetime(df_trans['meter_expire'])"
   ]
  },
  {
   "cell_type": "code",
   "execution_count": 4,
   "metadata": {
    "collapsed": false
   },
   "outputs": [],
   "source": [
    "#df_trans['month'] = df_trans['trans_start'].map(lambda x: x.month)\n",
    "df = df_trans[df_trans['trans_start'].dt.month == 7]"
   ]
  },
  {
   "cell_type": "code",
   "execution_count": 5,
   "metadata": {
    "collapsed": false
   },
   "outputs": [],
   "source": [
    "# Ignore rows outside paid parking window, as per instructions\n",
    "df = df[(df['trans_start'] != df['meter_expire'])]\n",
    "df = df[df['trans_start'].dt.hour<20]"
   ]
  },
  {
   "cell_type": "markdown",
   "metadata": {},
   "source": [
    "Part 1: Generate file with pole_id, sub-area, year, month, day, time, fraction of time paid per 5 minute interval, transactions iniatiated, and transactions ended."
   ]
  },
  {
   "cell_type": "code",
   "execution_count": 6,
   "metadata": {
    "collapsed": false
   },
   "outputs": [],
   "source": [
    "df_meters_sub = df_meters[['zone','area','sub_area','pole','longitude','latitude']]\n",
    "df = df.merge(df_meters_sub, left_on='pole_id', right_on='pole')"
   ]
  },
  {
   "cell_type": "code",
   "execution_count": 7,
   "metadata": {
    "collapsed": false
   },
   "outputs": [],
   "source": [
    "df['year'] = df['trans_start'].dt.year\n",
    "df['month'] = df['trans_start'].dt.month\n",
    "df['day'] = df['trans_start'].dt.day"
   ]
  },
  {
   "cell_type": "code",
   "execution_count": 9,
   "metadata": {
    "collapsed": false
   },
   "outputs": [
    {
     "name": "stdout",
     "output_type": "stream",
     "text": [
      "uuid has 860396 unique value(s)\n",
      "meter_type has 1 unique value(s)\n",
      "pole_id has 4640 unique value(s)\n",
      "trans_amt has 132 unique value(s)\n",
      "pay_method has 3 unique value(s)\n",
      "trans_start has 579538 unique value(s)\n",
      "meter_expire has 494148 unique value(s)\n",
      "zone has 4 unique value(s)\n",
      "area has 19 unique value(s)\n",
      "sub_area has 586 unique value(s)\n",
      "pole has 4640 unique value(s)\n",
      "longitude has 3546 unique value(s)\n",
      "latitude has 3749 unique value(s)\n",
      "year has 1 unique value(s)\n",
      "month has 1 unique value(s)\n",
      "day has 30 unique value(s)\n"
     ]
    }
   ],
   "source": [
    "# Cleanup for ML. No null values. Remove year, month, and meter_type as they are completely homogeneous\n",
    "for i in df.columns:\n",
    "    if df[i].isnull().values.all():\n",
    "        print(i + ' is empty')\n",
    "    elif df[i].isnull().values.any():\n",
    "        print(i + ' has some NaN values')\n",
    "    else:\n",
    "        pass\n",
    "    print(i + ' has ' + str(len(df[i].unique())) + ' unique value(s)')"
   ]
  },
  {
   "cell_type": "code",
   "execution_count": 10,
   "metadata": {
    "collapsed": false
   },
   "outputs": [],
   "source": [
    "df.drop(['month', 'year', 'meter_type'], axis = 1, inplace=True)"
   ]
  },
  {
   "cell_type": "markdown",
   "metadata": {},
   "source": [
    "Instead of going by time intervals, I prefer encoding time in sin/cos components. This allows ML algorithms to potentially include cyclicality"
   ]
  },
  {
   "cell_type": "code",
   "execution_count": 11,
   "metadata": {
    "collapsed": false
   },
   "outputs": [
    {
     "name": "stdout",
     "output_type": "stream",
     "text": [
      "Confirm that start time is within bounds of data set 2017-07-01 06:01:31\n",
      "-----\n",
      "Added sin/cos daily time columns\n"
     ]
    }
   ],
   "source": [
    "def time_columns(df, col):\n",
    "    start_time = min(df[col])\n",
    "    seconds_in_day = 24*60*60\n",
    "    dt_seconds = df[col].apply(lambda x: ( (x.hour*3600) + (x.minute*60) + x.second) )\n",
    "    df['Time_sin'] = np.sin(2*np.pi*dt_seconds/seconds_in_day)\n",
    "    df['Time_cos'] = np.cos(2*np.pi*dt_seconds/seconds_in_day)\n",
    "    print('Added sin/cos daily time columns')\n",
    "\n",
    "time_columns(df,'trans_start')"
   ]
  },
  {
   "cell_type": "markdown",
   "metadata": {},
   "source": [
    "Drop uuid (no ML data), meter_expire (auto-encodes for payment), pole and pole_id (semi-redundant given other location data, ideally would keep if I had the computational power for more one-hot encoded rows), and trans_start (time encoded cyclically and still have day). Note that day does not need to be encoded the same way since we're only examining one month"
   ]
  },
  {
   "cell_type": "code",
   "execution_count": 12,
   "metadata": {
    "collapsed": false
   },
   "outputs": [],
   "source": [
    "df.drop(['uuid','meter_expire','pole','pole_id','trans_start'], axis = 1, inplace=True)"
   ]
  },
  {
   "cell_type": "markdown",
   "metadata": {},
   "source": [
    "One-hot encode zone, area, and pay_method. Had originally did same for sub_area, but chose to drop it as the column count became a bit much"
   ]
  },
  {
   "cell_type": "code",
   "execution_count": 13,
   "metadata": {
    "collapsed": true
   },
   "outputs": [],
   "source": [
    "df = pd.get_dummies(df, columns = ['zone'])\n",
    "df = pd.get_dummies(df, columns = ['area'])\n",
    "#df = pd.get_dummies(df, columns = ['sub_area'])\n",
    "df.drop(['sub_area'], axis = 1, inplace=True)\n",
    "\n",
    "df = pd.get_dummies(df, columns = ['pay_method'])"
   ]
  },
  {
   "cell_type": "code",
   "execution_count": 1,
   "metadata": {
    "collapsed": false
   },
   "outputs": [
    {
     "ename": "NameError",
     "evalue": "name 'df' is not defined",
     "output_type": "error",
     "traceback": [
      "\u001b[0;31m---------------------------------------------------------------------------\u001b[0m",
      "\u001b[0;31mNameError\u001b[0m                                 Traceback (most recent call last)",
      "\u001b[0;32m<ipython-input-1-7ed0097d7e9e>\u001b[0m in \u001b[0;36m<module>\u001b[0;34m()\u001b[0m\n\u001b[0;32m----> 1\u001b[0;31m \u001b[0mdf\u001b[0m\u001b[0;34m\u001b[0m\u001b[0m\n\u001b[0m",
      "\u001b[0;31mNameError\u001b[0m: name 'df' is not defined"
     ]
    }
   ],
   "source": [
    "df"
   ]
  },
  {
   "cell_type": "code",
   "execution_count": 16,
   "metadata": {
    "collapsed": false
   },
   "outputs": [
    {
     "data": {
      "text/plain": [
       "Index(['trans_amt', 'longitude', 'latitude', 'day', 'Time_sin', 'Time_cos',\n",
       "       'zone_City', 'zone_Downtown', 'zone_Mid-City', 'zone_Uptown',\n",
       "       'area_Bankers Hill', 'area_Barrio Logan', 'area_College',\n",
       "       'area_Core - Columbia', 'area_Cortez Hill', 'area_East Village',\n",
       "       'area_Five Points', 'area_Gaslamp', 'area_Golden Hill',\n",
       "       'area_Hillcrest', 'area_Little Italy', 'area_Marina', 'area_Midtown',\n",
       "       'area_Mission Beach', 'area_Mission Hills', 'area_North Park',\n",
       "       'area_Point Loma', 'area_Talmadge', 'area_University Heights',\n",
       "       'pay_method_CASH', 'pay_method_CREDIT CARD', 'pay_method_SMART CARD'],\n",
       "      dtype='object')"
      ]
     },
     "execution_count": 16,
     "metadata": {},
     "output_type": "execute_result"
    }
   ],
   "source": [
    "df.columns"
   ]
  },
  {
   "cell_type": "code",
   "execution_count": 17,
   "metadata": {
    "collapsed": false
   },
   "outputs": [],
   "source": [
    "target = df['trans_amt']\n",
    "data = df.drop(['trans_amt'], axis = 1)"
   ]
  },
  {
   "cell_type": "code",
   "execution_count": 18,
   "metadata": {
    "collapsed": false
   },
   "outputs": [],
   "source": [
    "from sklearn.preprocessing import StandardScaler\n",
    "from sklearn.model_selection import train_test_split\n",
    "from sklearn.model_selection import cross_val_predict\n",
    "from sklearn.model_selection import cross_val_score\n",
    "from sklearn.metrics import mean_squared_error\n",
    "from sklearn.metrics import r2_score\n",
    "\n",
    "from sklearn.ensemble import RandomForestRegressor\n",
    "from sklearn.svm import SVR\n",
    "from sklearn.ensemble import GradientBoostingRegressor\n",
    "from sklearn.linear_model import LassoCV\n",
    "from sklearn.feature_selection import SelectFromModel\n",
    "from sklearn.model_selection import GridSearchCV\n",
    "from sklearn.linear_model import LogisticRegression\n",
    "from sklearn.linear_model import LinearRegression"
   ]
  },
  {
   "cell_type": "code",
   "execution_count": 19,
   "metadata": {
    "collapsed": false
   },
   "outputs": [],
   "source": [
    "# Get indices ahead of train_test_split\n",
    "indices = np.arange(data.shape[0])"
   ]
  },
  {
   "cell_type": "markdown",
   "metadata": {},
   "source": [
    "Scale data - note that for ML, I'm cheating here. I should technically first apply this to the training_data, then apply the same function to the test_data, but again, time constraints.  "
   ]
  },
  {
   "cell_type": "code",
   "execution_count": 20,
   "metadata": {
    "collapsed": false
   },
   "outputs": [],
   "source": [
    "scaler = StandardScaler()\n",
    "scaler.fit(data)\n",
    "data_std = scaler.transform(data)"
   ]
  },
  {
   "cell_type": "code",
   "execution_count": 21,
   "metadata": {
    "collapsed": false
   },
   "outputs": [],
   "source": [
    "# Due to the large data set, and insufficient computational power on my part, I need to break the data set up a bit\n",
    "\n",
    "# First I want to retain a portion of data that never factors into training and cross-validation. Let's pick 10% of the data for that\n",
    "data_cv, data_test, target_cv, target_test, id_cv, id_test = train_test_split(data_std, target, indices, test_size=0.1, random_state=11)\n",
    "\n",
    "# Next, I want to work with more manageable data sets for model building. For building I'll use 30% of the remaining data.\n",
    "data_small, data_test_big, target_small, target_test_big, id_small, id_big = train_test_split(data_cv, target_cv, id_cv, test_size=0.3, random_state=11)"
   ]
  },
  {
   "cell_type": "markdown",
   "metadata": {},
   "source": [
    "As for model choice, I decided to check out what Random Forest comes up with. It turns out the transaction prediction is not excellent, but it work well in aggregate over the days. Unfortunately, this is the part where time became a major issue, with even a small Random Forest taking 20 minutes. I could lower the fraction of data used to build the model faster, but I had issues with the aggregated results looking a bit too sparse when accounting for each day.\n",
    "\n",
    "My next step is, because Random Forest did pretty well in the aggregate, a Gradient Boosted Tree should do even better if properly tuned. The grid search for that, however, will take quite a bit more time than I can reasonably provide."
   ]
  },
  {
   "cell_type": "code",
   "execution_count": 33,
   "metadata": {
    "collapsed": false
   },
   "outputs": [
    {
     "name": "stderr",
     "output_type": "stream",
     "text": [
      "[Parallel(n_jobs=1)]: Done 100 out of 100 | elapsed: 18.3min finished\n"
     ]
    },
    {
     "data": {
      "text/plain": [
       "RandomForestRegressor(bootstrap=True, criterion='mse', max_depth=None,\n",
       "           max_features='auto', max_leaf_nodes=None,\n",
       "           min_impurity_decrease=0.0, min_impurity_split=None,\n",
       "           min_samples_leaf=1, min_samples_split=2,\n",
       "           min_weight_fraction_leaf=0.0, n_estimators=100, n_jobs=1,\n",
       "           oob_score=True, random_state=None, verbose=True,\n",
       "           warm_start=False)"
      ]
     },
     "execution_count": 33,
     "metadata": {},
     "output_type": "execute_result"
    }
   ],
   "source": [
    "rf_reg = RandomForestRegressor(100, oob_score=True, verbose=True)\n",
    "rf_reg.fit(data_small, target_small)"
   ]
  },
  {
   "cell_type": "code",
   "execution_count": 34,
   "metadata": {
    "collapsed": false
   },
   "outputs": [
    {
     "name": "stderr",
     "output_type": "stream",
     "text": [
      "[Parallel(n_jobs=1)]: Done 100 out of 100 | elapsed:   10.1s finished\n"
     ]
    },
    {
     "name": "stdout",
     "output_type": "stream",
     "text": [
      "MSE: 3535.6511144\n",
      "R2: 0.46171716265\n"
     ]
    },
    {
     "data": {
      "text/plain": [
       "(0, 1000)"
      ]
     },
     "execution_count": 34,
     "metadata": {},
     "output_type": "execute_result"
    },
    {
     "data": {
      "image/png": "[encoded data removed]",
      "text/plain": [
       "<matplotlib.figure.Figure at 0x1b584333588>"
      ]
     },
     "metadata": {},
     "output_type": "display_data"
    }
   ],
   "source": [
    "preds = rf_reg.predict(data_test)\n",
    "print('MSE: ' + str(mean_squared_error(preds, target_test)))\n",
    "print('R2: ' + str(r2_score(preds, target_test)))\n",
    "plt.scatter(preds, target_test)\n",
    "plt.title('Prediction output for small sample training')\n",
    "plt.xlabel('Prediction')\n",
    "plt.ylabel('Truth')\n",
    "plt.xlim([0,1000])"
   ]
  },
  {
   "cell_type": "markdown",
   "metadata": {},
   "source": [
    "Assemble the aggregated results for the sample"
   ]
  },
  {
   "cell_type": "code",
   "execution_count": 35,
   "metadata": {
    "collapsed": true
   },
   "outputs": [],
   "source": [
    "results = df[['day','trans_amt']].iloc[id_test]\n",
    "results['preds'] = preds"
   ]
  },
  {
   "cell_type": "code",
   "execution_count": 36,
   "metadata": {
    "collapsed": false
   },
   "outputs": [],
   "source": [
    "results_day = results.groupby('day').agg(np.sum)\n",
    "percent_dif = results_day.apply(lambda x: 100*abs(float(x['trans_amt'])-x['preds'])/x['trans_amt'], axis=1)"
   ]
  },
  {
   "cell_type": "code",
   "execution_count": 41,
   "metadata": {
    "collapsed": false
   },
   "outputs": [],
   "source": [
    "results_day['pct_dif'] = percent_dif\n",
    "results_day['raw_dif'] = results_day['preds'] - results_day['trans_amt']"
   ]
  },
  {
   "cell_type": "markdown",
   "metadata": {},
   "source": [
    "For the untested sample, we see percent differences that are fairly close when aggregated by day, with most percentages being less than 1.5%. Only ones larger tend to be ones with small in-sample sizes, like ones on holidays."
   ]
  },
  {
   "cell_type": "code",
   "execution_count": 42,
   "metadata": {
    "collapsed": false
   },
   "outputs": [
    {
     "data": {
      "text/html": [
       "<div>\n",
       "<table border=\"1\" class=\"dataframe\">\n",
       "  <thead>\n",
       "    <tr style=\"text-align: right;\">\n",
       "      <th></th>\n",
       "      <th>trans_amt</th>\n",
       "      <th>preds</th>\n",
       "      <th>pct_dif</th>\n",
       "      <th>raw_dif</th>\n",
       "    </tr>\n",
       "    <tr>\n",
       "      <th>day</th>\n",
       "      <th></th>\n",
       "      <th></th>\n",
       "      <th></th>\n",
       "      <th></th>\n",
       "    </tr>\n",
       "  </thead>\n",
       "  <tbody>\n",
       "    <tr>\n",
       "      <th>1</th>\n",
       "      <td>349051</td>\n",
       "      <td>343621.930000</td>\n",
       "      <td>1.555380</td>\n",
       "      <td>-5429.070000</td>\n",
       "    </tr>\n",
       "    <tr>\n",
       "      <th>3</th>\n",
       "      <td>362547</td>\n",
       "      <td>358873.960000</td>\n",
       "      <td>1.013121</td>\n",
       "      <td>-3673.040000</td>\n",
       "    </tr>\n",
       "    <tr>\n",
       "      <th>4</th>\n",
       "      <td>320</td>\n",
       "      <td>277.500000</td>\n",
       "      <td>13.281250</td>\n",
       "      <td>-42.500000</td>\n",
       "    </tr>\n",
       "    <tr>\n",
       "      <th>5</th>\n",
       "      <td>360924</td>\n",
       "      <td>360788.740000</td>\n",
       "      <td>0.037476</td>\n",
       "      <td>-135.260000</td>\n",
       "    </tr>\n",
       "    <tr>\n",
       "      <th>6</th>\n",
       "      <td>382048</td>\n",
       "      <td>384409.090000</td>\n",
       "      <td>0.618009</td>\n",
       "      <td>2361.090000</td>\n",
       "    </tr>\n",
       "    <tr>\n",
       "      <th>7</th>\n",
       "      <td>392178</td>\n",
       "      <td>393690.270000</td>\n",
       "      <td>0.385608</td>\n",
       "      <td>1512.270000</td>\n",
       "    </tr>\n",
       "    <tr>\n",
       "      <th>8</th>\n",
       "      <td>357496</td>\n",
       "      <td>351680.713333</td>\n",
       "      <td>1.626672</td>\n",
       "      <td>-5815.286667</td>\n",
       "    </tr>\n",
       "    <tr>\n",
       "      <th>10</th>\n",
       "      <td>355499</td>\n",
       "      <td>353463.316667</td>\n",
       "      <td>0.572627</td>\n",
       "      <td>-2035.683333</td>\n",
       "    </tr>\n",
       "    <tr>\n",
       "      <th>11</th>\n",
       "      <td>389796</td>\n",
       "      <td>386172.263333</td>\n",
       "      <td>0.929650</td>\n",
       "      <td>-3623.736667</td>\n",
       "    </tr>\n",
       "    <tr>\n",
       "      <th>12</th>\n",
       "      <td>373871</td>\n",
       "      <td>373681.730000</td>\n",
       "      <td>0.050624</td>\n",
       "      <td>-189.270000</td>\n",
       "    </tr>\n",
       "    <tr>\n",
       "      <th>13</th>\n",
       "      <td>380394</td>\n",
       "      <td>382662.410000</td>\n",
       "      <td>0.596332</td>\n",
       "      <td>2268.410000</td>\n",
       "    </tr>\n",
       "    <tr>\n",
       "      <th>14</th>\n",
       "      <td>401225</td>\n",
       "      <td>397732.770000</td>\n",
       "      <td>0.870392</td>\n",
       "      <td>-3492.230000</td>\n",
       "    </tr>\n",
       "    <tr>\n",
       "      <th>15</th>\n",
       "      <td>346616</td>\n",
       "      <td>331147.646667</td>\n",
       "      <td>4.462677</td>\n",
       "      <td>-15468.353333</td>\n",
       "    </tr>\n",
       "    <tr>\n",
       "      <th>17</th>\n",
       "      <td>354903</td>\n",
       "      <td>361480.180000</td>\n",
       "      <td>1.853233</td>\n",
       "      <td>6577.180000</td>\n",
       "    </tr>\n",
       "    <tr>\n",
       "      <th>18</th>\n",
       "      <td>363634</td>\n",
       "      <td>362572.440000</td>\n",
       "      <td>0.291931</td>\n",
       "      <td>-1061.560000</td>\n",
       "    </tr>\n",
       "    <tr>\n",
       "      <th>19</th>\n",
       "      <td>380206</td>\n",
       "      <td>380518.400000</td>\n",
       "      <td>0.082166</td>\n",
       "      <td>312.400000</td>\n",
       "    </tr>\n",
       "    <tr>\n",
       "      <th>20</th>\n",
       "      <td>387597</td>\n",
       "      <td>380049.620000</td>\n",
       "      <td>1.947224</td>\n",
       "      <td>-7547.380000</td>\n",
       "    </tr>\n",
       "    <tr>\n",
       "      <th>21</th>\n",
       "      <td>376498</td>\n",
       "      <td>372168.840000</td>\n",
       "      <td>1.149849</td>\n",
       "      <td>-4329.160000</td>\n",
       "    </tr>\n",
       "    <tr>\n",
       "      <th>22</th>\n",
       "      <td>350130</td>\n",
       "      <td>338051.400000</td>\n",
       "      <td>3.449747</td>\n",
       "      <td>-12078.600000</td>\n",
       "    </tr>\n",
       "    <tr>\n",
       "      <th>24</th>\n",
       "      <td>357910</td>\n",
       "      <td>355789.540000</td>\n",
       "      <td>0.592456</td>\n",
       "      <td>-2120.460000</td>\n",
       "    </tr>\n",
       "    <tr>\n",
       "      <th>25</th>\n",
       "      <td>387186</td>\n",
       "      <td>381789.900000</td>\n",
       "      <td>1.393671</td>\n",
       "      <td>-5396.100000</td>\n",
       "    </tr>\n",
       "    <tr>\n",
       "      <th>26</th>\n",
       "      <td>357147</td>\n",
       "      <td>358167.510833</td>\n",
       "      <td>0.285740</td>\n",
       "      <td>1020.510833</td>\n",
       "    </tr>\n",
       "    <tr>\n",
       "      <th>27</th>\n",
       "      <td>384657</td>\n",
       "      <td>380765.200000</td>\n",
       "      <td>1.011759</td>\n",
       "      <td>-3891.800000</td>\n",
       "    </tr>\n",
       "    <tr>\n",
       "      <th>28</th>\n",
       "      <td>389013</td>\n",
       "      <td>393799.710000</td>\n",
       "      <td>1.230476</td>\n",
       "      <td>4786.710000</td>\n",
       "    </tr>\n",
       "    <tr>\n",
       "      <th>29</th>\n",
       "      <td>345315</td>\n",
       "      <td>341454.480000</td>\n",
       "      <td>1.117971</td>\n",
       "      <td>-3860.520000</td>\n",
       "    </tr>\n",
       "    <tr>\n",
       "      <th>31</th>\n",
       "      <td>355077</td>\n",
       "      <td>359233.930000</td>\n",
       "      <td>1.170712</td>\n",
       "      <td>4156.930000</td>\n",
       "    </tr>\n",
       "  </tbody>\n",
       "</table>\n",
       "</div>"
      ],
      "text/plain": [
       "     trans_amt          preds    pct_dif       raw_dif\n",
       "day                                                   \n",
       "1       349051  343621.930000   1.555380  -5429.070000\n",
       "3       362547  358873.960000   1.013121  -3673.040000\n",
       "4          320     277.500000  13.281250    -42.500000\n",
       "5       360924  360788.740000   0.037476   -135.260000\n",
       "6       382048  384409.090000   0.618009   2361.090000\n",
       "7       392178  393690.270000   0.385608   1512.270000\n",
       "8       357496  351680.713333   1.626672  -5815.286667\n",
       "10      355499  353463.316667   0.572627  -2035.683333\n",
       "11      389796  386172.263333   0.929650  -3623.736667\n",
       "12      373871  373681.730000   0.050624   -189.270000\n",
       "13      380394  382662.410000   0.596332   2268.410000\n",
       "14      401225  397732.770000   0.870392  -3492.230000\n",
       "15      346616  331147.646667   4.462677 -15468.353333\n",
       "17      354903  361480.180000   1.853233   6577.180000\n",
       "18      363634  362572.440000   0.291931  -1061.560000\n",
       "19      380206  380518.400000   0.082166    312.400000\n",
       "20      387597  380049.620000   1.947224  -7547.380000\n",
       "21      376498  372168.840000   1.149849  -4329.160000\n",
       "22      350130  338051.400000   3.449747 -12078.600000\n",
       "24      357910  355789.540000   0.592456  -2120.460000\n",
       "25      387186  381789.900000   1.393671  -5396.100000\n",
       "26      357147  358167.510833   0.285740   1020.510833\n",
       "27      384657  380765.200000   1.011759  -3891.800000\n",
       "28      389013  393799.710000   1.230476   4786.710000\n",
       "29      345315  341454.480000   1.117971  -3860.520000\n",
       "31      355077  359233.930000   1.170712   4156.930000"
      ]
     },
     "execution_count": 42,
     "metadata": {},
     "output_type": "execute_result"
    }
   ],
   "source": [
    "results_day"
   ]
  },
  {
   "cell_type": "code",
   "execution_count": 45,
   "metadata": {
    "collapsed": true
   },
   "outputs": [],
   "source": [
    "results_day.to_csv('revenue_predictions_SD_July_2017_sampled.csv', sep = '\\t')"
   ]
  },
  {
   "cell_type": "markdown",
   "metadata": {},
   "source": [
    "Now, we can aggregate them for all data points to get total cash flows, but it's important to keep in mind that this will use points that were used in training, so the predictions are expected to be more accurate (but not for the right reasons)."
   ]
  },
  {
   "cell_type": "code",
   "execution_count": 39,
   "metadata": {
    "collapsed": false
   },
   "outputs": [
    {
     "name": "stderr",
     "output_type": "stream",
     "text": [
      "[Parallel(n_jobs=1)]: Done 100 out of 100 | elapsed:  1.7min finished\n"
     ]
    }
   ],
   "source": [
    "data_all, data_na, target_all, target_na, id_all, id_na = train_test_split(data_std, target, indices, test_size=0, random_state=11)\n",
    "all_preds = rf_reg.predict(data_all)\n",
    "all_results = df[['day','trans_amt']].iloc[id_all]\n",
    "all_results['preds'] = all_preds\n",
    "all_results_day = all_results.groupby('day').agg(np.sum)\n",
    "all_results_day['raw_dif'] = all_results_day['preds'] - all_results_day['trans_amt']\n",
    "all_percent_dif = all_results_day.apply(lambda x: 100*abs(float(x['raw_dif']))/x['trans_amt'], axis=1)\n",
    "all_results_day['pct_dif'] = all_percent_dif"
   ]
  },
  {
   "cell_type": "code",
   "execution_count": 40,
   "metadata": {
    "collapsed": false
   },
   "outputs": [
    {
     "data": {
      "text/html": [
       "<div>\n",
       "<table border=\"1\" class=\"dataframe\">\n",
       "  <thead>\n",
       "    <tr style=\"text-align: right;\">\n",
       "      <th></th>\n",
       "      <th>trans_amt</th>\n",
       "      <th>preds</th>\n",
       "      <th>raw_dif</th>\n",
       "      <th>pct_dif</th>\n",
       "    </tr>\n",
       "    <tr>\n",
       "      <th>day</th>\n",
       "      <th></th>\n",
       "      <th></th>\n",
       "      <th></th>\n",
       "      <th></th>\n",
       "    </tr>\n",
       "  </thead>\n",
       "  <tbody>\n",
       "    <tr>\n",
       "      <th>1</th>\n",
       "      <td>3525629</td>\n",
       "      <td>3.502501e+06</td>\n",
       "      <td>-23127.666667</td>\n",
       "      <td>0.655987</td>\n",
       "    </tr>\n",
       "    <tr>\n",
       "      <th>2</th>\n",
       "      <td>185</td>\n",
       "      <td>2.217000e+02</td>\n",
       "      <td>36.700000</td>\n",
       "      <td>19.837838</td>\n",
       "    </tr>\n",
       "    <tr>\n",
       "      <th>3</th>\n",
       "      <td>3587766</td>\n",
       "      <td>3.589017e+06</td>\n",
       "      <td>1250.510000</td>\n",
       "      <td>0.034855</td>\n",
       "    </tr>\n",
       "    <tr>\n",
       "      <th>4</th>\n",
       "      <td>7500</td>\n",
       "      <td>7.443850e+03</td>\n",
       "      <td>-56.150000</td>\n",
       "      <td>0.748667</td>\n",
       "    </tr>\n",
       "    <tr>\n",
       "      <th>5</th>\n",
       "      <td>3642764</td>\n",
       "      <td>3.635410e+06</td>\n",
       "      <td>-7353.940000</td>\n",
       "      <td>0.201878</td>\n",
       "    </tr>\n",
       "    <tr>\n",
       "      <th>6</th>\n",
       "      <td>3853560</td>\n",
       "      <td>3.844245e+06</td>\n",
       "      <td>-9314.753333</td>\n",
       "      <td>0.241718</td>\n",
       "    </tr>\n",
       "    <tr>\n",
       "      <th>7</th>\n",
       "      <td>3807751</td>\n",
       "      <td>3.808403e+06</td>\n",
       "      <td>651.610000</td>\n",
       "      <td>0.017113</td>\n",
       "    </tr>\n",
       "    <tr>\n",
       "      <th>8</th>\n",
       "      <td>3529107</td>\n",
       "      <td>3.469198e+06</td>\n",
       "      <td>-59909.238333</td>\n",
       "      <td>1.697575</td>\n",
       "    </tr>\n",
       "    <tr>\n",
       "      <th>10</th>\n",
       "      <td>3462498</td>\n",
       "      <td>3.456183e+06</td>\n",
       "      <td>-6315.156667</td>\n",
       "      <td>0.182387</td>\n",
       "    </tr>\n",
       "    <tr>\n",
       "      <th>11</th>\n",
       "      <td>3801721</td>\n",
       "      <td>3.782491e+06</td>\n",
       "      <td>-19229.773333</td>\n",
       "      <td>0.505818</td>\n",
       "    </tr>\n",
       "    <tr>\n",
       "      <th>12</th>\n",
       "      <td>3778612</td>\n",
       "      <td>3.767017e+06</td>\n",
       "      <td>-11594.896667</td>\n",
       "      <td>0.306856</td>\n",
       "    </tr>\n",
       "    <tr>\n",
       "      <th>13</th>\n",
       "      <td>3921407</td>\n",
       "      <td>3.908611e+06</td>\n",
       "      <td>-12796.441667</td>\n",
       "      <td>0.326323</td>\n",
       "    </tr>\n",
       "    <tr>\n",
       "      <th>14</th>\n",
       "      <td>4033541</td>\n",
       "      <td>4.015406e+06</td>\n",
       "      <td>-18134.986667</td>\n",
       "      <td>0.449605</td>\n",
       "    </tr>\n",
       "    <tr>\n",
       "      <th>15</th>\n",
       "      <td>3534342</td>\n",
       "      <td>3.456014e+06</td>\n",
       "      <td>-78327.596667</td>\n",
       "      <td>2.216186</td>\n",
       "    </tr>\n",
       "    <tr>\n",
       "      <th>16</th>\n",
       "      <td>1050</td>\n",
       "      <td>1.073300e+03</td>\n",
       "      <td>23.300000</td>\n",
       "      <td>2.219048</td>\n",
       "    </tr>\n",
       "    <tr>\n",
       "      <th>17</th>\n",
       "      <td>3619099</td>\n",
       "      <td>3.636019e+06</td>\n",
       "      <td>16919.511667</td>\n",
       "      <td>0.467506</td>\n",
       "    </tr>\n",
       "    <tr>\n",
       "      <th>18</th>\n",
       "      <td>3774360</td>\n",
       "      <td>3.777847e+06</td>\n",
       "      <td>3486.585000</td>\n",
       "      <td>0.092376</td>\n",
       "    </tr>\n",
       "    <tr>\n",
       "      <th>19</th>\n",
       "      <td>3832286</td>\n",
       "      <td>3.811975e+06</td>\n",
       "      <td>-20310.762222</td>\n",
       "      <td>0.529991</td>\n",
       "    </tr>\n",
       "    <tr>\n",
       "      <th>20</th>\n",
       "      <td>3872267</td>\n",
       "      <td>3.825013e+06</td>\n",
       "      <td>-47253.633333</td>\n",
       "      <td>1.220309</td>\n",
       "    </tr>\n",
       "    <tr>\n",
       "      <th>21</th>\n",
       "      <td>3872446</td>\n",
       "      <td>3.832982e+06</td>\n",
       "      <td>-39464.437024</td>\n",
       "      <td>1.019109</td>\n",
       "    </tr>\n",
       "    <tr>\n",
       "      <th>22</th>\n",
       "      <td>3528142</td>\n",
       "      <td>3.441032e+06</td>\n",
       "      <td>-87110.090000</td>\n",
       "      <td>2.469007</td>\n",
       "    </tr>\n",
       "    <tr>\n",
       "      <th>23</th>\n",
       "      <td>75</td>\n",
       "      <td>8.275000e+01</td>\n",
       "      <td>7.750000</td>\n",
       "      <td>10.333333</td>\n",
       "    </tr>\n",
       "    <tr>\n",
       "      <th>24</th>\n",
       "      <td>3604217</td>\n",
       "      <td>3.607931e+06</td>\n",
       "      <td>3714.060000</td>\n",
       "      <td>0.103048</td>\n",
       "    </tr>\n",
       "    <tr>\n",
       "      <th>25</th>\n",
       "      <td>3778668</td>\n",
       "      <td>3.770962e+06</td>\n",
       "      <td>-7706.110000</td>\n",
       "      <td>0.203937</td>\n",
       "    </tr>\n",
       "    <tr>\n",
       "      <th>26</th>\n",
       "      <td>3793630</td>\n",
       "      <td>3.779300e+06</td>\n",
       "      <td>-14330.144167</td>\n",
       "      <td>0.377742</td>\n",
       "    </tr>\n",
       "    <tr>\n",
       "      <th>27</th>\n",
       "      <td>3909445</td>\n",
       "      <td>3.892760e+06</td>\n",
       "      <td>-16684.668214</td>\n",
       "      <td>0.426778</td>\n",
       "    </tr>\n",
       "    <tr>\n",
       "      <th>28</th>\n",
       "      <td>3908752</td>\n",
       "      <td>3.910097e+06</td>\n",
       "      <td>1344.550833</td>\n",
       "      <td>0.034398</td>\n",
       "    </tr>\n",
       "    <tr>\n",
       "      <th>29</th>\n",
       "      <td>3491161</td>\n",
       "      <td>3.461029e+06</td>\n",
       "      <td>-30131.710000</td>\n",
       "      <td>0.863086</td>\n",
       "    </tr>\n",
       "    <tr>\n",
       "      <th>30</th>\n",
       "      <td>75</td>\n",
       "      <td>7.710000e+01</td>\n",
       "      <td>2.100000</td>\n",
       "      <td>2.800000</td>\n",
       "    </tr>\n",
       "    <tr>\n",
       "      <th>31</th>\n",
       "      <td>3523958</td>\n",
       "      <td>3.532908e+06</td>\n",
       "      <td>8949.702500</td>\n",
       "      <td>0.253967</td>\n",
       "    </tr>\n",
       "  </tbody>\n",
       "</table>\n",
       "</div>"
      ],
      "text/plain": [
       "     trans_amt         preds       raw_dif    pct_dif\n",
       "day                                                  \n",
       "1      3525629  3.502501e+06 -23127.666667   0.655987\n",
       "2          185  2.217000e+02     36.700000  19.837838\n",
       "3      3587766  3.589017e+06   1250.510000   0.034855\n",
       "4         7500  7.443850e+03    -56.150000   0.748667\n",
       "5      3642764  3.635410e+06  -7353.940000   0.201878\n",
       "6      3853560  3.844245e+06  -9314.753333   0.241718\n",
       "7      3807751  3.808403e+06    651.610000   0.017113\n",
       "8      3529107  3.469198e+06 -59909.238333   1.697575\n",
       "10     3462498  3.456183e+06  -6315.156667   0.182387\n",
       "11     3801721  3.782491e+06 -19229.773333   0.505818\n",
       "12     3778612  3.767017e+06 -11594.896667   0.306856\n",
       "13     3921407  3.908611e+06 -12796.441667   0.326323\n",
       "14     4033541  4.015406e+06 -18134.986667   0.449605\n",
       "15     3534342  3.456014e+06 -78327.596667   2.216186\n",
       "16        1050  1.073300e+03     23.300000   2.219048\n",
       "17     3619099  3.636019e+06  16919.511667   0.467506\n",
       "18     3774360  3.777847e+06   3486.585000   0.092376\n",
       "19     3832286  3.811975e+06 -20310.762222   0.529991\n",
       "20     3872267  3.825013e+06 -47253.633333   1.220309\n",
       "21     3872446  3.832982e+06 -39464.437024   1.019109\n",
       "22     3528142  3.441032e+06 -87110.090000   2.469007\n",
       "23          75  8.275000e+01      7.750000  10.333333\n",
       "24     3604217  3.607931e+06   3714.060000   0.103048\n",
       "25     3778668  3.770962e+06  -7706.110000   0.203937\n",
       "26     3793630  3.779300e+06 -14330.144167   0.377742\n",
       "27     3909445  3.892760e+06 -16684.668214   0.426778\n",
       "28     3908752  3.910097e+06   1344.550833   0.034398\n",
       "29     3491161  3.461029e+06 -30131.710000   0.863086\n",
       "30          75  7.710000e+01      2.100000   2.800000\n",
       "31     3523958  3.532908e+06   8949.702500   0.253967"
      ]
     },
     "execution_count": 40,
     "metadata": {},
     "output_type": "execute_result"
    }
   ],
   "source": [
    "all_results_day"
   ]
  },
  {
   "cell_type": "code",
   "execution_count": 46,
   "metadata": {
    "collapsed": true
   },
   "outputs": [],
   "source": [
    "all_results_day.to_csv('revenue_predictions_SD_July_2017_complete.csv', sep = '\\t')"
   ]
  },
  {
   "cell_type": "markdown",
   "metadata": {},
   "source": [
    "When we aggregate for all days, my predictions generally come out to less than a 1% difference on any given day. Of course, we part of this is the fact that 1% could be >400 dollars, in this set. The largest error missed the daily mark by ~800 dollars.\n",
    "\n",
    "Interestingly, these predictions tend to underestimate the daily totals generally, meaning certain days earned more in reality. I suspect an aspect of this is because our data set does not keep track of events. Weather could also impact if you were to analyze a year's worth of data or more (weather was quite consistent and nice during this time, according to some quick research). \n",
    "\n",
    "Note that we still get these fairly accurate predictions overall despite the model achieving fairly unimpressive R^2 values and mean-squared errors. Outlier detection may tighten this up a bit, as I did not thoroughly investigate outliers in favor of capturing entire data set.\n",
    "\n",
    "Unfortunately my current computational power is rather limited, but with more time I would expect moderate-to-substantial improvements."
   ]
  },
  {
   "cell_type": "markdown",
   "metadata": {},
   "source": [
    "Feature selection via Lasso was also attempted to speed up grid searching for boosted trees and support vector regressor"
   ]
  },
  {
   "cell_type": "code",
   "execution_count": 22,
   "metadata": {
    "collapsed": false
   },
   "outputs": [
    {
     "name": "stdout",
     "output_type": "stream",
     "text": [
      "25\n"
     ]
    }
   ],
   "source": [
    "lasso = LassoCV(n_alphas=1000)\n",
    "lasso.fit(data_small, target_small)\n",
    "sfm = SelectFromModel(lasso, threshold=0.05)\n",
    "sfm.fit(data_small, target_small)\n",
    "n_features = sfm.transform(data_small).shape[1]\n",
    "print(n_features)"
   ]
  },
  {
   "cell_type": "code",
   "execution_count": null,
   "metadata": {
    "collapsed": false
   },
   "outputs": [
    {
     "name": "stdout",
     "output_type": "stream",
     "text": [
      "Fitting 3 folds for each of 6 candidates, totalling 18 fits\n"
     ]
    }
   ],
   "source": [
    "gbt_params = {'learning_rate': [0.2, 0.3,0.5], \n",
    "              'max_depth':[5,6,7,8]}\n",
    "\n",
    "gbt_gs = GridSearchCV(GradientBoostingRegressor(n_estimators=1000, random_state=11), param_grid = gbt_params, n_jobs=3, cv=3, verbose=10)\n",
    "gbt_gs.fit(sfm.transform(data_small),target_small)"
   ]
  },
  {
   "cell_type": "code",
   "execution_count": null,
   "metadata": {
    "collapsed": false
   },
   "outputs": [],
   "source": [
    "gbt_reg = SVR(verbose=True)\n",
    "gbt_reg.fit(data_small, target_small)"
   ]
  },
  {
   "cell_type": "code",
   "execution_count": null,
   "metadata": {
    "collapsed": true
   },
   "outputs": [],
   "source": [
    "#svr_params = {'C': [0.1, 0.5, 1.0, 2, 10, 100], \n",
    "#              'epsilon':[0.2, 0.1, 0.01, 0],\n",
    "#              'gamma': ['auto', 0.01, 0.1],\n",
    "#             'kernel': ['rbf', 'sigmoid']}\n",
    "#svr_test = SVR(C = 1.5, epsilon = 0.1, kernel ='rbf', gamma = 0.2)\n",
    "#svr_test.fit(data_small,target_small)\n",
    "#preds = svr_test.predict(data_test_small)"
   ]
  },
  {
   "cell_type": "markdown",
   "metadata": {},
   "source": [
    "Just to see, I did a basic linear regression. The fit is quite a bit worse than the random forest"
   ]
  },
  {
   "cell_type": "code",
   "execution_count": 28,
   "metadata": {
    "collapsed": false
   },
   "outputs": [
    {
     "data": {
      "text/plain": [
       "LinearRegression(copy_X=True, fit_intercept=True, n_jobs=1, normalize=False)"
      ]
     },
     "execution_count": 28,
     "metadata": {},
     "output_type": "execute_result"
    }
   ],
   "source": [
    "LR = LinearRegression()\n",
    "LR.fit(data_small, target_small)"
   ]
  },
  {
   "cell_type": "code",
   "execution_count": 45,
   "metadata": {
    "collapsed": false
   },
   "outputs": [
    {
     "name": "stdout",
     "output_type": "stream",
     "text": [
      "MSE: 4031.59198047\n",
      "R2: 0.225327889385\n"
     ]
    },
    {
     "data": {
      "text/plain": [
       "(0, 1000)"
      ]
     },
     "execution_count": 45,
     "metadata": {},
     "output_type": "execute_result"
    },
    {
     "data": {
      "image/png": "[encoded data removed]",
      "text/plain": [
       "<matplotlib.figure.Figure at 0x1ec3a524fd0>"
      ]
     },
     "metadata": {},
     "output_type": "display_data"
    }
   ],
   "source": [
    "preds = LR.predict(data_test)\n",
    "print('MSE: ' + str(mean_squared_error(preds, target_test)))\n",
    "print('R2: ' + str(r2_score(preds, target_test)))\n",
    "plt.scatter(preds, target_test)\n",
    "plt.title('Prediction output for small sample training')\n",
    "plt.xlabel('Prediction')\n",
    "plt.ylabel('Truth')\n",
    "plt.xlim([0,1000])"
   ]
  }
 ],
 "metadata": {
  "kernelspec": {
   "display_name": "Python 2",
   "language": "python",
   "name": "python2"
  },
  "language_info": {
   "codemirror_mode": {
    "name": "ipython",
    "version": 2
   },
   "file_extension": ".py",
   "mimetype": "text/x-python",
   "name": "python",
   "nbconvert_exporter": "python",
   "pygments_lexer": "ipython2",
   "version": "2.7.11"
  }
 },
 "nbformat": 4,
 "nbformat_minor": 0
}
